{
  "cells": [
    {
      "attachments": {},
      "cell_type": "markdown",
      "metadata": {
        "id": "UmkbAUrgAPy2"
      },
      "source": []
    },
    {
      "cell_type": "code",
      "execution_count": 1,
      "metadata": {},
      "outputs": [
        {
          "data": {
            "text/plain": [
              "[2, 4, 6, 8, 10]"
            ]
          },
          "execution_count": 1,
          "metadata": {},
          "output_type": "execute_result"
        }
      ],
      "source": [
        "def even(arr):\n",
        "    if len(arr)<=1:\n",
        "        return arr\n",
        "    list=[]\n",
        "    for i in range(len(arr)):\n",
        "        if arr[i]%2==0:\n",
        "            list.append(arr[i])\n",
        "    return list\n",
        "        \n",
        "arr=[1, 2, 3, 4, 5, 6, 7, 8, 9, 10]\n",
        "even(arr)"
      ]
    },
    {
      "cell_type": "code",
      "execution_count": 3,
      "metadata": {},
      "outputs": [
        {
          "name": "stdout",
          "output_type": "stream",
          "text": [
            "**********\n",
            "Hello \n",
            "**********\n",
            "**********\n",
            "Bye \n",
            "**********\n"
          ]
        }
      ],
      "source": [
        "\n",
        "def my_decorator(func):\n",
        "    def wrapper_function(*args, **kwargs):\n",
        "        print(\"*\"*10)\n",
        "        func(*args,  **kwargs)\n",
        "        print(\"*\"*10)\n",
        "    return wrapper_function\n",
        "  \n",
        "  \n",
        "def say_hello():\n",
        "    print(\"Hello \")\n",
        "  \n",
        "@my_decorator\n",
        "def say_bye():\n",
        "    print(\"Bye \")\n",
        "  \n",
        "  \n",
        "say_hello = my_decorator(say_hello)\n",
        "say_hello()\n",
        "say_bye()"
      ]
    },
    {
      "cell_type": "code",
      "execution_count": 2,
      "metadata": {},
      "outputs": [
        {
          "data": {
            "text/plain": [
              "20.0"
            ]
          },
          "execution_count": 2,
          "metadata": {},
          "output_type": "execute_result"
        }
      ],
      "source": [
        "def calculate_mean(numbers):\n",
        "    if len(numbers)<=1:\n",
        "        return numbers\n",
        "    sum=0\n",
        "    for i in range(len(numbers)):\n",
        "        sum=sum+numbers[i]\n",
        "        \n",
        "    mean=sum/len(numbers)\n",
        "    return mean\n",
        "numbers= [10, 15, 20, 25, 30]\n",
        "calculate_mean(numbers)\n",
        "   "
      ]
    },
    {
      "cell_type": "code",
      "execution_count": 1,
      "metadata": {
        "id": "QXuiv6Cr_83V"
      },
      "outputs": [],
      "source": [
        "from scipy import stats\n",
        "\n",
        "def perform_hypothesis_test(sample1, sample2):\n",
        "    t_statistic, p_value = stats.ttest_ind(sample1, sample2)\n",
        "    return p_value"
      ]
    },
    {
      "cell_type": "code",
      "execution_count": 2,
      "metadata": {
        "colab": {
          "base_uri": "https://localhost:8080/"
        },
        "id": "rsPExnhB_-EM",
        "outputId": "afd12d1b-ee86-4d13-c4a5-2883cccfe639"
      },
      "outputs": [
        {
          "name": "stdout",
          "output_type": "stream",
          "text": [
            "P-value: 0.09434977284243756\n"
          ]
        }
      ],
      "source": [
        "sample1 = [5, 10, 15, 20, 25]\n",
        "sample2 = [10, 20, 30, 40, 50]\n",
        "p_value = perform_hypothesis_test(sample1, sample2)\n",
        "print(\"P-value:\", p_value)"
      ]
    },
    {
      "cell_type": "code",
      "execution_count": null,
      "metadata": {
        "id": "TIkCCru0AKhH"
      },
      "outputs": [],
      "source": []
    }
  ],
  "metadata": {
    "colab": {
      "provenance": []
    },
    "kernelspec": {
      "display_name": "Python 3",
      "name": "python3"
    },
    "language_info": {
      "codemirror_mode": {
        "name": "ipython",
        "version": 3
      },
      "file_extension": ".py",
      "mimetype": "text/x-python",
      "name": "python",
      "nbconvert_exporter": "python",
      "pygments_lexer": "ipython3",
      "version": "3.11.4"
    }
  },
  "nbformat": 4,
  "nbformat_minor": 0
}
