{
 "cells": [
  {
   "cell_type": "code",
   "execution_count": 28,
   "metadata": {},
   "outputs": [],
   "source": [
    "class Stack:\n",
    "    def __init__(self):\n",
    "        self.stack = []  # Create an empty list to store the stack elements\n",
    "\n",
    "    def push(self, item):\n",
    "        self.stack.append(item)  # Add the item to the top of the stack\n",
    "\n",
    "    def pop(self):\n",
    "        if self.isEmpty():\n",
    "            raise IndexError(\"Cannot pop from an empty stack\")\n",
    "        return self.stack.pop()  # Remove and return the top element of the stack\n",
    "\n",
    "    def isEmpty(self):\n",
    "        return len(self.stack) == 0  # Check if the stack is empty\n",
    "    \n",
    "    def printStack(self):\n",
    "        return self.stack\n",
    "          \n",
    "    "
   ]
  },
  {
   "cell_type": "code",
   "execution_count": 38,
   "metadata": {},
   "outputs": [
    {
     "name": "stdout",
     "output_type": "stream",
     "text": [
      "[1, 2, 3]\n",
      "3\n",
      "[1, 2]\n",
      "False\n",
      "2\n",
      "1\n",
      "[]\n",
      "True\n"
     ]
    }
   ],
   "source": [
    "stack = Stack()\n",
    "\n",
    "stack.push(1)\n",
    "stack.push(2)\n",
    "stack.push(3)\n",
    "\n",
    "print(stack.printStack())  \n",
    "\n",
    "print(stack.pop())\n",
    "\n",
    "print(stack.printStack())  \n",
    "\n",
    "print(stack.isEmpty())\n",
    "\n",
    "print(stack.pop())  \n",
    "\n",
    "print(stack.pop()) \n",
    "\n",
    "print(stack.printStack())   \n",
    "\n",
    "print(stack.isEmpty())  "
   ]
  },
  {
   "cell_type": "code",
   "execution_count": 39,
   "metadata": {},
   "outputs": [],
   "source": [
    "from queue import Queue\n",
    "\n",
    "class QueueImplementation:\n",
    "    def __init__(self):\n",
    "        self.queue = Queue()  # Create an empty queue using the Queue class from the queue module\n",
    "\n",
    "    def enqueue(self, item):\n",
    "        self.queue.put(item)  # Add an item to the queue using the put() method\n",
    "\n",
    "    def dequeue(self):\n",
    "        if self.isEmpty():\n",
    "            raise IndexError(\"Cannot dequeue from an empty queue\")\n",
    "        else:\n",
    "            return self.queue.get()  # Remove and return an item from the queue using the get() method\n",
    "\n",
    "    def isEmpty(self):\n",
    "        return self.queue.empty()  # Check if the queue is empty using the empty() method\n",
    "    \n",
    "    def printQueue(self):\n",
    "        return list(self.queue.queue)  # Convert the queue to a list and return it\n",
    "\n",
    "\n",
    "\n",
    "\n",
    "    "
   ]
  },
  {
   "cell_type": "code",
   "execution_count": 37,
   "metadata": {},
   "outputs": [
    {
     "name": "stdout",
     "output_type": "stream",
     "text": [
      "[1, 2, 3]\n",
      "1\n",
      "False\n",
      "2\n",
      "3\n",
      "[]\n",
      "True\n"
     ]
    }
   ],
   "source": [
    "# Example usage:\n",
    "queue = QueueImplementation()\n",
    "\n",
    "queue.enqueue(1)\n",
    "queue.enqueue(2)\n",
    "queue.enqueue(3)\n",
    "\n",
    "print(queue.printQueue())  \n",
    "\n",
    "print(queue.dequeue())  \n",
    "\n",
    "print(queue.isEmpty())  \n",
    "\n",
    "print(queue.dequeue())  \n",
    "\n",
    "print(queue.dequeue()) \n",
    "\n",
    "print(queue.printQueue())   \n",
    "\n",
    "print(queue.isEmpty())  \n",
    "\n",
    "        "
   ]
  },
  {
   "cell_type": "code",
   "execution_count": null,
   "metadata": {},
   "outputs": [],
   "source": []
  }
 ],
 "metadata": {
  "kernelspec": {
   "display_name": "Python 3",
   "language": "python",
   "name": "python3"
  },
  "language_info": {
   "codemirror_mode": {
    "name": "ipython",
    "version": 3
   },
   "file_extension": ".py",
   "mimetype": "text/x-python",
   "name": "python",
   "nbconvert_exporter": "python",
   "pygments_lexer": "ipython3",
   "version": "3.11.2"
  },
  "orig_nbformat": 4
 },
 "nbformat": 4,
 "nbformat_minor": 2
}
